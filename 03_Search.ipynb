{
 "cells": [
  {
   "cell_type": "markdown",
   "metadata": {},
   "source": [
    "## Amazon Kendra Search"
   ]
  },
  {
   "cell_type": "code",
   "execution_count": 21,
   "metadata": {},
   "outputs": [],
   "source": [
    "# Import necessary libraries and load environment variables\n",
    "\n",
    "from dotenv import load_dotenv, find_dotenv, set_key\n",
    "import dotenv\n",
    "import os\n",
    "\n",
    "# loading environment variables that are stored in local file\n",
    "local_env_filename = 'dev.env'\n",
    "load_dotenv(find_dotenv(local_env_filename),override=True)\n",
    "\n",
    "os.environ['REGION'] = os.getenv('REGION')\n",
    "os.environ['KENDRA_INDEX'] = os.getenv('KENDRA_INDEX')\n",
    "os.environ['KENDRA_ROLE'] = os.getenv('KENDRA_ROLE')\n",
    "os.environ['CUSTOM_DATA_SOURCE_ID_1'] = os.getenv('CUSTOM_DATA_SOURCE_ID_1')\n",
    "os.environ['CUSTOM_DATA_SOURCE_ID_2'] = os.getenv('CUSTOM_DATA_SOURCE_ID_2')\n",
    "os.environ['AMAZON_Q_APP_ID'] = os.getenv('AMAZON_Q_APP_ID')\n",
    "os.environ['Q_CUSTOM_DATA_SOURCE_ID_1'] = os.getenv('Q_CUSTOM_DATA_SOURCE_ID_1')\n",
    "os.environ['Q_CUSTOM_DATA_SOURCE_ID_2'] = os.getenv('Q_CUSTOM_DATA_SOURCE_ID_2')\n",
    "os.environ['DEMO_S3_BUCKET'] = os.getenv('DEMO_S3_BUCKET')\n",
    "os.environ['DEMO_S3_KEY'] = os.getenv('DEMO_S3_KEY')\n",
    "os.environ['CLOUDFRONT_URL'] = os.getenv('CLOUDFRONT_URL')\n",
    "os.environ['S3_DATA_SOURCE_ID'] = os.getenv('S3_DATA_SOURCE_ID')\n",
    "\n",
    "REGION = os.environ['REGION']\n",
    "KENDRA_INDEX = os.environ['KENDRA_INDEX']\n",
    "KENDRA_ROLE = os.environ['KENDRA_ROLE']\n",
    "CUSTOM_DATA_SOURCE_ID_1 = os.environ['CUSTOM_DATA_SOURCE_ID_1']\n",
    "CUSTOM_DATA_SOURCE_ID_2 = os.environ['CUSTOM_DATA_SOURCE_ID_2']\n",
    "AMAZON_Q_APP_ID = os.environ['AMAZON_Q_APP_ID']\n",
    "Q_CUSTOM_DATA_SOURCE_ID_1 = os.environ['Q_CUSTOM_DATA_SOURCE_ID_1']\n",
    "Q_CUSTOM_DATA_SOURCE_ID_2 = os.environ['Q_CUSTOM_DATA_SOURCE_ID_2']\n",
    "DEMO_S3_BUCKET = os.environ['DEMO_S3_BUCKET']\n",
    "DEMO_S3_KEY = os.environ['DEMO_S3_KEY']\n",
    "CLOUDFRONT_URL = os.environ['CLOUDFRONT_URL']\n",
    "S3_DATA_SOURCE_ID = os.environ['S3_DATA_SOURCE_ID']"
   ]
  },
  {
   "cell_type": "markdown",
   "metadata": {},
   "source": [
    "# Amazon Kendra Search example"
   ]
  },
  {
   "cell_type": "code",
   "execution_count": 22,
   "metadata": {},
   "outputs": [
    {
     "name": "stdout",
     "output_type": "stream",
     "text": [
      "productreviews The productreviews table contains reviews for different products. It includes columns for the product id, product name, review text, rating, reviewer, and created by. Sample values include Wireless Earbuds with a rating of 5, Smart Watch with a rating of 4, Laptop with a rating of 5, Coffee Maker wi\n",
      "products ...The products table has columns product_id, product_name, supplier_id, category_id, quantity_per_unit, unit_price, units_in_stock, units_on_order, reorder_level, and discontinued. The table contains information about products, such as their names, suppliers, categories, quantities, prices, and whether they have been discontinued. For example, product Chai has an id of 1, is supplied by supplier 8, belongs to category 1, comes in boxes of 30 bags, costs $18 per unit, has 39 units in stock, 0 units on order, a reorder level of 10, and has not been discontinued...\n",
      "productreviews ...The productreviews table contains reviews for different products. It includes columns for the product id, product name, review text, rating, reviewer, and created by. Sample values include Wireless Earbuds with a rating of 5, Smart Watch with a rating of 4, Laptop with a rating of 5, Coffee Maker with a rating of 4, and Fitness Tracker with a rating of 3. This table can be used to analyze customer feedback, track product ratings, and identify trends in customer reviews...\n",
      "categories ...The \"categories\" table has 4 columns: \"category_id\", \"category_name\", \"description\", and \"picture\". It has 5 rows of data with sample values: (1, 'Beverages', 'Soft drinks, coffees, teas, beers, and ales', <memory at 0x116798dc0>), (2, 'Condiments', 'Sweet and savory sauces, relishes, spreads, and seasonings', <memory at 0x11592e980>), (3, 'Confections', 'Desserts, candies, and sweet breads', <memory at 0x11592ec80>), (4, 'Dairy Products', 'Cheeses', <memory at 0x11592ea40>), (5, 'Grains/Cereals', 'Breads, crackers, pasta, and cereal', <memory at 0x11592eb00>). This table can be used to answer questions about the different categories of products, their descriptions, and their associated pictures...\n",
      "customers ...The \"customers\" table contains information about customers, including their customer_id, company_name, contact_name, contact_title, address, city, region, postal_code, country, phone, and fax. It can be used to answer questions such as \"What is the phone number of the customer with customer_id 'ALFKI'?\" or \"Which customers are located in Mexico?\". The table includes sample values such as 'ALFKI', 'Alfreds Futterkiste', 'Maria Anders', 'Sales Representative', 'Obere Str. 57', 'Berlin', None, '12209', 'Germany', '030-0074321', '030-0076545', 'ANATR', 'Ana Trujillo Emparedados y helados', 'Ana Trujillo', 'Owner', 'Avda...\n",
      "order_details ...The order_details table has columns: order_id, product_id, unit_price, quantity, and discount. It has sample values like (10248, 11, 14.0, 12, 0.0), (10248, 42, 9.8, 10, 0.0), (10248, 72, 34.8, 5, 0.0), (10249, 14, 18.6, 9, 0.0), (10249, 51, 42.4, 40, 0.0). The table can be used to answer questions like \"What is the unit price of the product with id 11 in the order with id 10248?\" or \"What is the total quantity of products in the order with id 10249...\n",
      "orders ...The \"orders\" table contains information about orders, including order ID, customer ID, employee ID, order date, required date, shipped date, shipping method, freight, ship name, ship address, ship city, ship region, ship postal code, and ship country. It has 5 rows with sample values such as order_id 10248, customer_id 'VINET', employee_id 5, order_date '1996-07-04', required_date '1996-08-01', shipped_date '1996-07-16', ship_via 3, freight 32.38, ship_name 'Vins et alcools Chevalier', ship_address '59 rue de l'Abbaye', ship_city 'Reims', ship_region None, ship_postal_code '51100', and ship_country 'France'. This table can be used to answer questions about orders, such as which orders were shipped via a particular shipping method or which orders were shipped to a specific country...\n",
      "employees ...The \"employees\" table contains information about the employees of a company, including their personal details, job titles, and contact information. The table has columns for employee_id, last_name, first_name, title, title_of_courtesy, birth_date, hire_date, address, city, region, postal_code, country, home_phone, extension, photo, notes, reports_to, and photo_path. Sample values in the table include employees with different job titles such as Vice President, Sales Representative, and Sales Manager, as well as their corresponding personal details and contact information. The table can be used to answer questions such as \"Who are the sales representatives in the company?\", \"What is the birth date of a specific employee?\", or \"Which employee reports to a specific manager...\n",
      "customer_customer_demo ...The \"customer_customer_demo\" table has two columns: \"customer_id\" and \"customer_type_id\", both of which are of type character varying and are not null. There are no sample values provided. This table could be used to answer questions about the relationship between customers and their customer types....\n",
      "employee_territories ...The \"employee_territories\" table has 2 columns:\n",
      "- \"employee_id\" is a smallint that cannot be null.\n",
      "- \"territory_id\" is a character varying of 20 characters that cannot be null.\n",
      "\n",
      "Here are some sample values:\n",
      "- (1, '06897')\n",
      "- (1, '19713')\n",
      "- (2, '01581')\n",
      "- (2, '01730')\n",
      "- (2, '01833')\n",
      "\n",
      "This table could be used to answer questions like:\n",
      "- What are the territory ids for employee 1?\n",
      "- What are the employee ids for territory 01581?...\n"
     ]
    }
   ],
   "source": [
    "import boto3\n",
    "\n",
    "kendra = boto3.client(\"kendra\")\n",
    "\n",
    "query = \"What is the name of the product with the highest rating?\"\n",
    "\n",
    "response = kendra.query(\n",
    "    QueryText = query,\n",
    "    IndexId = KENDRA_INDEX\n",
    ")\n",
    "\n",
    "# print the results\n",
    "for result in response['ResultItems']:\n",
    "    print(result['DocumentTitle']['Text'], result['DocumentExcerpt']['Text'])"
   ]
  },
  {
   "cell_type": "code",
   "execution_count": 23,
   "metadata": {},
   "outputs": [
    {
     "data": {
      "text/plain": [
       "11"
      ]
     },
     "execution_count": 23,
     "metadata": {},
     "output_type": "execute_result"
    }
   ],
   "source": [
    "response['TotalNumberOfResults']"
   ]
  },
  {
   "cell_type": "code",
   "execution_count": 24,
   "metadata": {},
   "outputs": [
    {
     "data": {
      "text/plain": [
       "dict_keys(['QueryId', 'ResultItems', 'FacetResults', 'TotalNumberOfResults', 'ResponseMetadata'])"
      ]
     },
     "execution_count": 24,
     "metadata": {},
     "output_type": "execute_result"
    }
   ],
   "source": [
    "response.keys()"
   ]
  },
  {
   "cell_type": "markdown",
   "metadata": {},
   "source": [
    "### Display results by relevance score\n"
   ]
  },
  {
   "cell_type": "code",
   "execution_count": 25,
   "metadata": {},
   "outputs": [
    {
     "name": "stdout",
     "output_type": "stream",
     "text": [
      "0. [MEDIUM] productreviews\n",
      "1. [VERY_HIGH] products\n",
      "2. [HIGH] productreviews\n",
      "3. [MEDIUM] categories\n",
      "4. [MEDIUM] customers\n",
      "5. [MEDIUM] order_details\n",
      "6. [MEDIUM] orders\n",
      "7. [MEDIUM] employees\n",
      "8. [MEDIUM] customer_customer_demo\n",
      "9. [MEDIUM] employee_territories\n"
     ]
    }
   ],
   "source": [
    "def display_results(response:dict, user_profile:str=None) -> None:\n",
    "    list_1 = []\n",
    "    for i,item in enumerate(response['ResultItems']):\n",
    "        title = item['DocumentTitle']['Text']\n",
    "        score = item['ScoreAttributes']['ScoreConfidence']\n",
    "        list_item = f'{i}. [{score}] {title}'\n",
    "        list_1.append(list_item)\n",
    "        \n",
    "    results = list_1\n",
    "    _ = [print(item) for item in results]\n",
    "\n",
    "display_results(response)\n"
   ]
  },
  {
   "cell_type": "markdown",
   "metadata": {},
   "source": [
    "# Kendra Search results with user context filter\n",
    "\n",
    "You can filter a user's search results based on the user or their group access to documents. You can use a user token, user ID, or user attribute to filter documents. Amazon Kendra can also map users to their groups. You can choose to use AWS IAM Identity Center as your identity store/source.\n",
    "\n",
    "User context filtering is a kind of personalized search with the benefit of controlling access to documents. For example, not all teams that search the company portal for information should access top-secret company documents, nor are these documents relevant to all users. Only specific users or groups of teams given access to top-secret documents should see these documents in their search results.\n",
    "\n",
    "When a document is indexed into Amazon Kendra, a corresponding access control list (ACL) is ingested for most documents. The ACL specifies which user names and group names are allowed or denied access to the document. Documents without an ACL are public documents."
   ]
  },
  {
   "cell_type": "code",
   "execution_count": 32,
   "metadata": {},
   "outputs": [
    {
     "name": "stdout",
     "output_type": "stream",
     "text": [
      "Search results for user: huthmac@amazon.com\n",
      "0. [HIGH] combineLLMwithGraph\n",
      "1. [MEDIUM] text2sqlpaper0\n",
      "2. [MEDIUM] 627tablesWithContext\n",
      "3. [MEDIUM] text2sqlpaper3\n",
      "4. [MEDIUM] text2sqlpaper2\n",
      "5. [MEDIUM] text2sqlpaper\n",
      "Search results for user: felixh\n"
     ]
    }
   ],
   "source": [
    "# Kendra Search results with user context filter\n",
    "# https://docs.aws.amazon.com/kendra/latest/dg/user-context-filter.html\n",
    "import boto3\n",
    "\n",
    "kendra = boto3.client(\"kendra\")\n",
    "\n",
    "query = \"What LLM papers are there?\"\n",
    "# ensure you are using an index with ACL that usernames and groups\n",
    "response = kendra.query(\n",
    "    QueryText = query,\n",
    "    IndexId = KENDRA_INDEX,\n",
    "    UserContext = {\n",
    "        \"UserId\": \"huthmac@amazon.com\"\n",
    "    }\n",
    "    )\n",
    "\n",
    "print(f'Search results for user: huthmac@amazon.com')\n",
    "display_results(response)\n",
    "\n",
    "print(f'Search results for user: felixh')\n",
    "response = kendra.query(\n",
    "    QueryText = query,\n",
    "    IndexId = KENDRA_INDEX,\n",
    "    UserContext = {\n",
    "        \"UserId\": \"felixh\"\n",
    "    }\n",
    "    )\n",
    "display_results(response)"
   ]
  },
  {
   "cell_type": "markdown",
   "metadata": {},
   "source": [
    "### Note\n",
    "User context filtering isn't an authentication or authorization control for your content. It doesn't do user authentication on the user and groups sent to the Query API. It is up to your application to ensure that the user and group information sent to Query API is authenticated and authorized."
   ]
  },
  {
   "cell_type": "markdown",
   "metadata": {},
   "source": [
    "# Amazon Q Business example"
   ]
  },
  {
   "cell_type": "markdown",
   "metadata": {},
   "source": [
    "To authenticate with Q Business you need to update the webapp.env file.\n",
    "\n",
    "Further details and instructions can be found here:\n",
    "\n",
    "https://github.com/aws-samples/configuring-qbusiness-with-idc-tti/tree/main"
   ]
  },
  {
   "cell_type": "code",
   "execution_count": null,
   "metadata": {},
   "outputs": [],
   "source": [
    "# IMPORTANT TO RUN THE BELOW CODE you need to get the identity context\n",
    "# launch local webapp: python main.py\n",
    "# then login and then coppy the context to the idc_sts_context variable in webapp.env\n",
    "# then stop cell/ local web server\n",
    "\n",
    "!python main.py"
   ]
  },
  {
   "cell_type": "code",
   "execution_count": 9,
   "metadata": {},
   "outputs": [],
   "source": [
    "# copy sts:identity_context to get temporary credentials\n",
    "import boto3\n",
    "import os\n",
    "from dotenv import load_dotenv, find_dotenv, set_key\n",
    "import dotenv\n",
    "import json\n",
    "from qbapi_tools.api_helpers import QBusinessAPIHelpers\n",
    "from qbapi_tools.access_helpers import (\n",
    "    get_oidc_config,\n",
    "    get_oidc_id_token,\n",
    "    get_idc_sts_id_context,\n",
    "    get_sts_credential,\n",
    ")\n",
    "\n",
    "\n",
    "# loading environment variables that are stored in local file\n",
    "local_env_filename = 'webapp.env'\n",
    "load_dotenv(find_dotenv(local_env_filename),override=True)\n",
    "\n",
    "os.environ['REGION'] = os.getenv('region_name')\n",
    "os.environ['qb_apl_id'] = os.getenv('qb_apl_id')\n",
    "os.environ['qb_sts_role'] = os.getenv('qb_sts_role')\n",
    "qb_sts_role = os.environ['qb_sts_role']\n",
    "REGION = os.environ['REGION']\n",
    "qb_apl_id = os.environ['qb_apl_id']\n",
    "\n",
    "os.environ['idc_sts_context'] = os.getenv('idc_sts_context')\n",
    "\n",
    "idc_sts_context = os.environ['idc_sts_context']\n",
    "\n",
    "credential = get_sts_credential(qb_sts_role, idc_sts_context,REGION)\n",
    "\n",
    "def get_qclient(credentials):\n",
    "    session = boto3.Session(\n",
    "        aws_access_key_id=credentials[\"AccessKeyId\"],\n",
    "        aws_secret_access_key=credentials[\"SecretAccessKey\"],\n",
    "        aws_session_token=credentials[\"SessionToken\"],\n",
    "    )\n",
    "    return session.client(\"qbusiness\", REGION)\n",
    "\n",
    "def chat_with_amazon_q(prompt, conversation_id=\"\", parent_message_id=\"\", credentials=None):\n",
    "    try:\n",
    "        \n",
    "        # Step 4: Create Q client with temporary credentials\n",
    "        amazon_q = get_qclient(credentials)\n",
    "        \n",
    "        # Chat with Amazon Q\n",
    "        chat_params = {\n",
    "            \"applicationId\": qb_apl_id,\n",
    "            \"userMessage\": prompt,\n",
    "        }\n",
    "        if conversation_id:\n",
    "            chat_params[\"conversationId\"] = conversation_id\n",
    "            chat_params[\"parentMessageId\"] = parent_message_id\n",
    "        \n",
    "        response = amazon_q.chat_sync(**chat_params)\n",
    "        return response\n",
    "    except Exception as e:\n",
    "        print(f\"Error in chat_with_amazon_q: {str(e)}\")\n",
    "        return {\"error\": str(e)}\n",
    "\n",
    "def parse_amazon_q_response(response_json):\n",
    "    \"\"\"\n",
    "    Parse the systemMessage and sourceAttributions from an Amazon Q response.\n",
    "    \n",
    "    Args:\n",
    "    response_json (str or dict): The JSON response from Amazon Q, either as a string or a dictionary.\n",
    "    \n",
    "    Returns:\n",
    "    dict: A dictionary containing the parsed systemMessage and sourceAttributions.\n",
    "    \"\"\"\n",
    "    # If the input is a string, parse it into a dictionary\n",
    "    if isinstance(response_json, str):\n",
    "        response_dict = json.loads(response_json)\n",
    "    else:\n",
    "        response_dict = response_json\n",
    "    \n",
    "    # Extract systemMessage\n",
    "    system_message = response_dict.get('systemMessage', '')\n",
    "    \n",
    "    # Extract sourceAttributions\n",
    "    source_attributions = response_dict.get('sourceAttributions', [])\n",
    "    \n",
    "    # Create a more concise version of sourceAttributions\n",
    "    parsed_attributions = []\n",
    "    for attribution in source_attributions:\n",
    "        parsed_attribution = {\n",
    "            'title': attribution.get('title', ''),\n",
    "            'snippet': attribution.get('snippet', ''),\n",
    "            'url': attribution.get('url', ''),\n",
    "            'citationNumber': attribution.get('citationNumber', 0)\n",
    "        }\n",
    "        parsed_attributions.append(parsed_attribution)\n",
    "    \n",
    "    # Construct the result\n",
    "    result = {\n",
    "        'systemMessage': system_message,\n",
    "        'sourceAttributions': parsed_attributions\n",
    "    }\n",
    "    \n",
    "    return result"
   ]
  },
  {
   "cell_type": "code",
   "execution_count": 10,
   "metadata": {},
   "outputs": [
    {
     "name": "stdout",
     "output_type": "stream",
     "text": [
      "{\n",
      "  \"systemMessage\": \"The product with the highest rating based on the information provided in the data source is the Laptop, which has a rating of 5 .\",\n",
      "  \"sourceAttributions\": [\n",
      "    {\n",
      "      \"title\": \"Laptop\",\n",
      "      \"snippet\": \" Excellent performance for the price.\",\n",
      "      \"url\": \"\",\n",
      "      \"citationNumber\": 1\n",
      "    }\n",
      "  ]\n",
      "}\n"
     ]
    }
   ],
   "source": [
    "prompt = \"What is the name of the product with the highest rating?\"\n",
    "response = chat_with_amazon_q(prompt,credentials=credential)\n",
    "parsed_result = parse_amazon_q_response(response)\n",
    "print(json.dumps(parsed_result, indent=2))"
   ]
  },
  {
   "cell_type": "markdown",
   "metadata": {},
   "source": [
    "## Appendix"
   ]
  },
  {
   "cell_type": "code",
   "execution_count": 26,
   "metadata": {},
   "outputs": [
    {
     "name": "stdout",
     "output_type": "stream",
     "text": [
      "base64secret: ZGVtbzEyMw==\n"
     ]
    }
   ],
   "source": [
    "# generate JWT token for user context filter with Amazon Kendra\n",
    "import base64\n",
    "import uuid\n",
    "from datetime import datetime, timedelta\n",
    "import jwt\n",
    "\n",
    "# HS256 token generation\n",
    "def generate_token(username, groups, secret, sub, kid):\n",
    "    base64secret = base64.urlsafe_b64encode(secret.encode('utf-8')).decode('utf-8')\n",
    "    print(\"base64secret:\", base64secret)\n",
    "\n",
    "    now = datetime.utcnow()\n",
    "\n",
    "    # Set claims\n",
    "    claims = {\n",
    "        \"username\": username,\n",
    "        \"groups\": groups,\n",
    "        \"iat\": now,\n",
    "        \"exp\": now + timedelta(minutes=5),\n",
    "        \"iss\": sub,\n",
    "        \"sub\": sub,\n",
    "        \"jti\": str(uuid.uuid4())\n",
    "    }\n",
    "\n",
    "    headers = {\n",
    "        \"typ\": \"JWT\",\n",
    "        \"kid\": kid\n",
    "    }\n",
    "\n",
    "    jwt_token = jwt.encode(claims, secret, algorithm=\"HS256\", headers=headers)\n",
    "    return jwt_token\n",
    "\n",
    "\n",
    "username = 'felixh'\n",
    "groups = ['GROUP1']\n",
    "secret = 'demo123'\n",
    "sub = ''\n",
    "kid = 'key2018'\n",
    "\n",
    "jwt_token = generate_token(username, groups, secret, sub, kid)\n"
   ]
  }
 ],
 "metadata": {
  "kernelspec": {
   "display_name": "Python 3",
   "language": "python",
   "name": "python3"
  },
  "language_info": {
   "codemirror_mode": {
    "name": "ipython",
    "version": 3
   },
   "file_extension": ".py",
   "mimetype": "text/x-python",
   "name": "python",
   "nbconvert_exporter": "python",
   "pygments_lexer": "ipython3",
   "version": "3.11.7"
  }
 },
 "nbformat": 4,
 "nbformat_minor": 2
}
